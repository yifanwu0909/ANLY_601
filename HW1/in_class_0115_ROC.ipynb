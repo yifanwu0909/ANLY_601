{
 "cells": [
  {
   "cell_type": "code",
   "execution_count": 168,
   "metadata": {},
   "outputs": [
    {
     "data": {
      "image/png": "[encoded data removed]",
      "text/plain": [
       "<Figure size 432x288 with 1 Axes>"
      ]
     },
     "metadata": {
      "needs_background": "light"
     },
     "output_type": "display_data"
    }
   ],
   "source": [
    "# -*- coding: utf-8 -*-\n",
    "\"\"\"\n",
    "Created on Sun Oct  7 18:10:29 2018\n",
    "\n",
    "\n",
    "In Class Exercise (submit before end of class for +10 extra credit).\n",
    "******************************************************\n",
    "Goal: Implement function \n",
    "ROC, AUC = createROC(predictedClass, actualClass)\n",
    "******************************************************\n",
    "\n",
    "which computes a ROC given list of predicted classes and list of actualClasses.\n",
    "Specifically construct ROC as a dictionary with entries for \"tpr\" and \"fpr\": the \n",
    "arrays of the true positive rates and false positive rates.\n",
    "\n",
    "This function will also compute the area under the curve, AUC using simple Riemann \n",
    "estimate.\n",
    "\n",
    "Compare your results to the existing methods roc_curve and auc in sklearn, by overlaying\n",
    "the ROCs computed by your function (in blue) and the ROCs computed by sklearn (in black). \n",
    "\n",
    "\n",
    "Take-Home Assignment (Extra Credit +20).\n",
    "******************************************************\n",
    "Read: ROC Analysis paper posted on course site.\n",
    "To Do: Implement two more ROC curve creating functions with error bars\n",
    "******************************************************\n",
    "\n",
    "Specifically, the creation of a ROC curve can be seen as a trial, the results of which\n",
    "may vary based on the variability of data. The ROC analysis paper acknowledges this \n",
    "concern and addresses it by designing two algorithms which result in ROCs with error bars:\n",
    "one algorithm addressing variability in TPR and one addressing variability in FPR.\n",
    "\n",
    "Goals: Implement functions\n",
    "ROC, AUC = createROCtpr(predictedClass, actualClass)\n",
    "ROC, AUC = createROCfpr(predictedClass, actualClass)\n",
    "\n",
    "\n",
    "Resource(s) that may help:\n",
    "    https://matplotlib.org/\n",
    "    \n",
    "\n",
    "@author: jerem\n",
    "\"\"\"\n",
    "\n",
    "import numpy as np\n",
    "import matplotlib.pyplot as plt\n",
    "from itertools import cycle\n",
    "\n",
    "from sklearn import svm, datasets\n",
    "from sklearn.metrics import roc_curve, auc\n",
    "from sklearn.model_selection import train_test_split\n",
    "from sklearn.preprocessing import label_binarize\n",
    "from sklearn.multiclass import OneVsRestClassifier\n",
    "from scipy import interp\n",
    "\n",
    "\n",
    "\n",
    "# \n",
    "\n",
    "# Import some data to play with\n",
    "iris = datasets.load_iris()\n",
    "X = iris.data\n",
    "y = iris.target\n",
    "\n",
    "# Binarize the output\n",
    "y = label_binarize(y, classes=[0, 1, 2])\n",
    "n_classes = y.shape[1]\n",
    "\n",
    "# Add noisy features to make the problem harder\n",
    "random_state = np.random.RandomState(0)\n",
    "n_samples, n_features = X.shape\n",
    "X = np.c_[X, random_state.randn(n_samples, 200 * n_features)]\n",
    "\n",
    "# shuffle and split training and test sets\n",
    "X_train, X_test, y_train, y_test = train_test_split(X, y, test_size=.5, random_state=0)\n",
    "\n",
    "# Learn to predict each class against the other\n",
    "classifier = OneVsRestClassifier(svm.SVC(kernel='linear', probability=True,\n",
    "                                 random_state=random_state))\n",
    "y_score = classifier.fit(X_train, y_train).decision_function(X_test) #predict_proba\n",
    "y_prob = classifier.fit(X_train, y_train).predict_proba(X_test)\n",
    "y_class = classifier.fit(X_train, y_train).predict(X_test)\n",
    "\n",
    "# Compute ROC curve and ROC area for each class\n",
    "fpr = dict()\n",
    "tpr = dict()\n",
    "roc_auc = dict()\n",
    "for i in range(n_classes):\n",
    "    fpr[i], tpr[i], _ = roc_curve(y_test[:, i], y_score[:, i])\n",
    "    roc_auc[i] = auc(fpr[i], tpr[i])\n",
    "\n",
    "# Compute micro-average ROC curve and ROC area\n",
    "#fpr[\"micro\"], tpr[\"micro\"], _ = roc_curve(y_test.ravel(), y_score.ravel())\n",
    "#roc_auc[\"micro\"] = auc(fpr[\"micro\"], tpr[\"micro\"])\n",
    "\n",
    "\n",
    "plt.figure()\n",
    "lw = 2\n",
    "class_num = 1\n",
    "plt.plot(fpr[class_num], tpr[class_num], color='black',\n",
    "         lw=lw, label='ROC curve (area = %0.2f)' % roc_auc[2])\n",
    "\n",
    "# Display your results here.\n",
    "# plt.plot(..., ..., color='black',lw=lw, label='ROC curve (area = %0.2f)' % roc_auc[2])\n",
    "\n",
    "plt.plot([0, 1], [0, 1], color='grey', lw=lw, linestyle='--')\n",
    "plt.xlim([0.0, 1.0])\n",
    "plt.ylim([0.0, 1.05])\n",
    "plt.xlabel('False Positive Rate')\n",
    "plt.ylabel('True Positive Rate')\n",
    "plt.title('Receiver operating characteristic example')\n",
    "plt.legend(loc=\"lower right\")\n",
    "plt.show()"
   ]
  },
  {
   "cell_type": "code",
   "execution_count": 170,
   "metadata": {},
   "outputs": [
    {
     "data": {
      "text/plain": [
       "array([ 0.1239796 , -0.16616656, -0.32062486,  0.02184016, -0.71882525,\n",
       "       -0.05851787, -0.79094201, -0.57154703, -0.38892819, -0.27501927,\n",
       "       -0.28027547,  0.02538619, -0.13452752, -0.45930643, -0.20026826,\n",
       "       -0.56156984, -0.24317009, -0.31413579, -0.3909524 ,  0.03129667,\n",
       "       -0.21412904, -0.51928682,  0.04076059, -0.41083444, -0.1202643 ,\n",
       "       -0.57664396, -0.8648849 , -0.21652326, -0.49962148, -0.11051706,\n",
       "       -0.2273942 ,  0.02074984, -0.45378569, -0.00359355,  0.10099661,\n",
       "       -0.33970555, -0.41773929,  0.12950484, -0.54614202, -0.35868612,\n",
       "       -0.30068446, -0.18121717,  0.00863558, -0.22892428, -0.20376516,\n",
       "       -0.05836804, -0.01169663,  0.21330137, -0.23335428,  0.58431039,\n",
       "       -0.3941874 , -0.32066024,  0.00761443, -0.50579325, -0.21316263,\n",
       "       -0.10579228, -0.30604104, -0.07437911, -0.27820574, -0.21661728,\n",
       "       -0.28302624, -0.47723277, -0.37510759, -0.10203375, -0.16931316,\n",
       "       -0.39954675, -0.1204075 ,  0.41494993, -0.44612973, -0.35207865,\n",
       "        0.04859412, -0.61862499, -0.29723377, -0.44319443, -0.30381285])"
      ]
     },
     "execution_count": 170,
     "metadata": {},
     "output_type": "execute_result"
    }
   ],
   "source": [
    "y_score[:, 2]"
   ]
  },
  {
   "cell_type": "code",
   "execution_count": 163,
   "metadata": {},
   "outputs": [
    {
     "name": "stderr",
     "output_type": "stream",
     "text": [
      "No handles with labels found to put in legend.\n"
     ]
    },
    {
     "data": {
      "image/png": "[encoded data removed]",
      "text/plain": [
       "<Figure size 432x288 with 1 Axes>"
      ]
     },
     "metadata": {
      "needs_background": "light"
     },
     "output_type": "display_data"
    }
   ],
   "source": [
    "def createROC(y_pred, y_actual):\n",
    "    \n",
    "    tpr_dict = dict()\n",
    "    fpr_dict = dict()\n",
    "    \n",
    "    for j in [0, 1, 2]:\n",
    "        \n",
    "        tpr_class = []\n",
    "        fpr_class = []\n",
    "        y_actual_class = y_actual[:, j]\n",
    "        \n",
    "        for threshold in numpy.arange(0, 1.01, 0.01):\n",
    "\n",
    "            predictedClass = [i.astype(int) for i in y_pred[:, j] >= threshold]\n",
    "            #print(predictedClass[0])\n",
    "            TP = 0\n",
    "            FP = 0\n",
    "            TN = 0\n",
    "            FN = 0\n",
    "\n",
    "            for i in range(len(predictedClass)): \n",
    "                #print(predictedClass[i])\n",
    "                #print(y_actual_class[i])\n",
    "                if y_actual_class[i] == predictedClass[i] == 1:\n",
    "                    TP += 1                    \n",
    "                if predictedClass[i] == 1 and y_actual_class[i]! = predictedClass[i]:\n",
    "                    FP += 1\n",
    "                if y_actual_class[i] == predictedClass[i] == 0:\n",
    "                    TN += 1\n",
    "                if (predictedClass[i] == 0) and (y_actual_class[i] != predictedClass[i]):\n",
    "                    FN += 1\n",
    "\n",
    "            tpr_i = TP / (TP + FN)\n",
    "            fpr_i = FP / (FP + TN)  \n",
    "\n",
    "            tpr_class.append(tpr_i)\n",
    "            fpr_class.append(fpr_i)\n",
    "        \n",
    "        tpr_dict[j] = tpr_class\n",
    "        fpr_dict[j] = fpr_class\n",
    "       \n",
    "\n",
    "    return tpr_dict, fpr_dict\n",
    "    \n",
    "    \n",
    "tpr, fpr = createROC(y_prob, y_test)\n",
    "\n",
    "plt.figure()\n",
    "class_num = 1\n",
    "plt.plot(fpr[class_num], tpr[class_num], color='black', lw=2)\n",
    "\n",
    "\n",
    "plt.plot([0, 1], [0, 1], color='grey', lw=lw, linestyle='--')\n",
    "plt.xlim([0.0, 1.0])\n",
    "plt.ylim([0.0, 1.05])\n",
    "plt.xlabel('False Positive Rate')\n",
    "plt.ylabel('True Positive Rate')\n",
    "plt.title('Receiver operating characteristic example')\n",
    "plt.legend(loc=\"lower right\")\n",
    "plt.show()"
   ]
  },
  {
   "cell_type": "code",
   "execution_count": 143,
   "metadata": {},
   "outputs": [
    {
     "data": {
      "text/plain": [
       "array([0.24174159, 0.30121076, 0.34605074, 0.19539083, 0.22445759,\n",
       "       0.23814442, 0.21781688, 0.14652367, 0.21696056, 0.22018741,\n",
       "       0.22913104, 0.31851306, 0.30339374, 0.26278235, 0.22172022,\n",
       "       0.28292909, 0.1812822 , 0.19786889, 0.39517597, 0.37361113,\n",
       "       0.18500182, 0.26180379, 0.34566072, 0.32018677, 0.21061782,\n",
       "       0.24220388, 0.19398177, 0.33021464, 0.24423178, 0.32041234,\n",
       "       0.2521228 , 0.34294127, 0.26560741, 0.26311929, 0.32138171,\n",
       "       0.23080736, 0.27400975, 0.17549013, 0.30749699, 0.29386924,\n",
       "       0.21287422, 0.39890993, 0.29384609, 0.33537714, 0.34920074,\n",
       "       0.35712131, 0.22584099, 0.25597579, 0.20019318, 0.30041588,\n",
       "       0.22773462, 0.2379415 , 0.31026515, 0.29962998, 0.19370658,\n",
       "       0.23840533, 0.19715402, 0.27642945, 0.21554853, 0.35872727,\n",
       "       0.26809256, 0.35368087, 0.34925555, 0.31978696, 0.24892908,\n",
       "       0.15981808, 0.28578575, 0.26307648, 0.28658625, 0.28477161,\n",
       "       0.30251403, 0.1884253 , 0.3671223 , 0.3466549 , 0.22661583])"
      ]
     },
     "execution_count": 143,
     "metadata": {},
     "output_type": "execute_result"
    }
   ],
   "source": [
    "y_prob[:, 1]"
   ]
  },
  {
   "cell_type": "code",
   "execution_count": 144,
   "metadata": {},
   "outputs": [
    {
     "data": {
      "text/plain": [
       "array([0.06019732, 0.35610687, 0.65735935, 0.03458982, 0.53656981,\n",
       "       0.10187135, 0.56934792, 0.09976567, 0.21754971, 0.16128655,\n",
       "       0.1884631 , 0.24566846, 0.33543033, 0.47088801, 0.13042431,\n",
       "       0.64452011, 0.06912446, 0.12310176, 0.8423764 , 0.43945169,\n",
       "       0.07073614, 0.52390767, 0.31262744, 0.66506278, 0.07742895,\n",
       "       0.46924453, 0.51563914, 0.5       , 0.42126068, 0.36426869,\n",
       "       0.22680357, 0.33433706, 0.48706138, 0.13459862, 0.20175325,\n",
       "       0.23444957, 0.49101317, 0.01519159, 0.72233862, 0.50500649,\n",
       "       0.15554425, 0.70503819, 0.19306875, 0.53678102, 0.56315491,\n",
       "       0.4314826 , 0.07042163, 0.05791958, 0.09855577, 0.0278572 ,\n",
       "       0.26457565, 0.25713061, 0.2331307 , 0.66028716, 0.08264416,\n",
       "       0.12288343, 0.12038704, 0.19496786, 0.14888145, 0.6141974 ,\n",
       "       0.33259338, 0.79821282, 0.70627953, 0.36580752, 0.18430035,\n",
       "       0.07874082, 0.24976239, 0.026996  , 0.56772859, 0.46741973,\n",
       "       0.1927165 , 0.26890534, 0.71663867, 0.76250345, 0.2019918 ])"
      ]
     },
     "execution_count": 144,
     "metadata": {},
     "output_type": "execute_result"
    }
   ],
   "source": [
    "y_prob[:, 0]"
   ]
  },
  {
   "cell_type": "code",
   "execution_count": 145,
   "metadata": {},
   "outputs": [
    {
     "data": {
      "text/plain": [
       "array([0.8293423 , 0.46392587, 0.25675446, 0.72575167, 0.03221816,\n",
       "       0.6233162 , 0.02104212, 0.07210959, 0.18709588, 0.31178975,\n",
       "       0.30512397, 0.72992812, 0.51087526, 0.13153949, 0.41436576,\n",
       "       0.07618068, 0.3559114 , 0.2641855 , 0.18527242, 0.73679985,\n",
       "       0.39490092, 0.09586649, 0.7475668 , 0.16808899, 0.53204179,\n",
       "       0.07010812, 0.01357372, 0.39159059, 0.10649034, 0.54647034,\n",
       "       0.37677007, 0.72445947, 0.13533461, 0.6946515 , 0.80908542,\n",
       "       0.2357096 , 0.16242648, 0.83395135, 0.08289216, 0.21598945,\n",
       "       0.28002174, 0.4418251 , 0.70985179, 0.3747127 , 0.40940914,\n",
       "       0.62353909, 0.68433814, 0.89217202, 0.36879716, 0.98684094,\n",
       "       0.1823868 , 0.25671432, 0.70859975, 0.10304903, 0.39624165,\n",
       "       0.55345325, 0.27364633, 0.59980895, 0.30773921, 0.39146093,\n",
       "       0.30166757, 0.11983499, 0.19991529, 0.55900367, 0.4592841 ,\n",
       "       0.17768332, 0.53182957, 0.964808  , 0.14074998, 0.22271583,\n",
       "       0.75625608, 0.05785893, 0.28417647, 0.1428738 , 0.27628731])"
      ]
     },
     "execution_count": 145,
     "metadata": {},
     "output_type": "execute_result"
    }
   ],
   "source": [
    "y_prob[:, 2]"
   ]
  },
  {
   "cell_type": "code",
   "execution_count": 146,
   "metadata": {},
   "outputs": [
    {
     "data": {
      "text/plain": [
       "array([1, 0, 0, 1, 0, 1, 0, 0, 0, 0, 1, 0, 0, 0, 0, 0, 0, 0, 0, 0, 1, 0,\n",
       "       0, 0, 1, 0, 0, 0, 0, 0, 1, 0, 0, 1, 1, 0, 0, 0, 0, 0, 1, 0, 1, 0,\n",
       "       0, 0, 1, 1, 1, 1, 0, 1, 0, 0, 1, 1, 1, 1, 0, 1, 0, 0, 1, 0, 0, 0,\n",
       "       0, 1, 0, 0, 1, 0, 0, 0, 0])"
      ]
     },
     "execution_count": 146,
     "metadata": {},
     "output_type": "execute_result"
    }
   ],
   "source": [
    "y_test[:, 2]"
   ]
  },
  {
   "cell_type": "code",
   "execution_count": 177,
   "metadata": {},
   "outputs": [
    {
     "data": {
      "text/plain": [
       "75"
      ]
     },
     "execution_count": 177,
     "metadata": {},
     "output_type": "execute_result"
    }
   ],
   "source": [
    "len(y_test)"
   ]
  },
  {
   "cell_type": "code",
   "execution_count": 172,
   "metadata": {},
   "outputs": [],
   "source": [
    "# using methord in paper for in class\n",
    "import math\n",
    "def createROC(f, L):\n",
    "    L_sorted = L.copy()\n",
    "    L_sorted = [L[i] for i in np.argsort(f)[::-1]]\n",
    "    TP = 0\n",
    "    FP = 0\n",
    "    R = []\n",
    "    fprev = -math.inf\n",
    "    P = len(L[L == 1])\n",
    "    N = len(L[L == 0])\n",
    "    i = 0\n",
    "    while i <= len(L_sorted) - 1: \n",
    "        if f[i] != fprev:\n",
    "            R.append((FP/N, TP/P))\n",
    "            fprev = f[i]\n",
    "        if L_sorted[i] == 1: \n",
    "            TP = TP + 1\n",
    "        else:\n",
    "            FP = FP + 1\n",
    "        i = i + 1\n",
    "    R.append((FP/N, TP/P))    \n",
    "    fpr = [j[0] for j in R]\n",
    "    tpr = [j[1] for j in R]\n",
    "    \n",
    "    AUC = 0\n",
    "    for i in range(len(fpr)-1):\n",
    "        AUC = AUC + (fpr[i+1] - fpr[i]) * tpr[i+1]\n",
    "        \n",
    "    return R, AUC\n"
   ]
  },
  {
   "cell_type": "code",
   "execution_count": null,
   "metadata": {},
   "outputs": [],
   "source": []
  },
  {
   "cell_type": "code",
   "execution_count": 176,
   "metadata": {},
   "outputs": [
    {
     "data": {
      "image/png": "[encoded data removed]",
      "text/plain": [
       "<Figure size 432x288 with 1 Axes>"
      ]
     },
     "metadata": {
      "needs_background": "light"
     },
     "output_type": "display_data"
    }
   ],
   "source": [
    "plt.figure()\n",
    "lw = 2\n",
    "class_num = 0\n",
    "R, AUC = createROC(y_score[:, class_num], y_test[:, class_num])\n",
    "plt.plot(fpr[class_num], tpr[class_num], color='black',\n",
    "         lw=lw, label='ROC curve (area = %0.2f)' % roc_auc[class_num])\n",
    "plt.plot([j[0] for j in R], [j[1] for j in R], color='blue',\n",
    "         lw=lw, label='ROC curve (area = %0.2f)' % AUC)\n",
    "\n",
    "plt.plot([0, 1], [0, 1], color='grey', lw=lw, linestyle='--')\n",
    "plt.xlim([0.0, 1.0])\n",
    "plt.ylim([0.0, 1.05])\n",
    "plt.xlabel('False Positive Rate')\n",
    "plt.ylabel('True Positive Rate')\n",
    "plt.title('Receiver operating characteristic example')\n",
    "plt.legend(loc=\"lower right\")\n",
    "plt.show()"
   ]
  },
  {
   "cell_type": "markdown",
   "metadata": {},
   "source": [
    "# Take Home"
   ]
  },
  {
   "cell_type": "code",
   "execution_count": null,
   "metadata": {},
   "outputs": [],
   "source": [
    "# shuffle and split training and test sets\n",
    "nrocs = 100\n",
    "y_score_list = []\n",
    "y_test_list = []\n",
    "for i in range(nrocs):\n",
    "    X_train, X_test, y_train, y_test = train_test_split(X, y, test_size=.5, random_state=i)\n",
    "    classifier = OneVsRestClassifier(svm.SVC(kernel='linear', probability=True,\n",
    "                                     random_state=random_state))\n",
    "    y_score = classifier.fit(X_train, y_train).decision_function(X_test)\n",
    "    y_score_list.append(y_score[:, 2])\n",
    "    y_test_list.append(y_test[:, 2])\n",
    "\n"
   ]
  },
  {
   "cell_type": "code",
   "execution_count": 205,
   "metadata": {},
   "outputs": [
    {
     "name": "stdout",
     "output_type": "stream",
     "text": [
      "0.08333333333333333\n",
      "0.07407407407407407\n",
      "0.08\n",
      "0.08695652173913043\n",
      "0.08695652173913043\n",
      "0.08333333333333333\n",
      "0.08\n",
      "0.08\n",
      "0.08333333333333333\n",
      "0.045454545454545456\n",
      "0.08\n",
      "0.07142857142857142\n",
      "0.08695652173913043\n",
      "0.07407407407407407\n",
      "0.09523809523809523\n",
      "0.07692307692307693\n",
      "0.1\n",
      "None\n"
     ]
    },
    {
     "ename": "TypeError",
     "evalue": "unsupported operand type(s) for +: 'float' and 'NoneType'",
     "output_type": "error",
     "traceback": [
      "\u001b[1;31m---------------------------------------------------------------------------\u001b[0m",
      "\u001b[1;31mTypeError\u001b[0m                                 Traceback (most recent call last)",
      "\u001b[1;32m<ipython-input-205-d59d10d43744>\u001b[0m in \u001b[0;36m<module>\u001b[1;34m()\u001b[0m\n\u001b[0;32m     48\u001b[0m \u001b[1;33m\u001b[0m\u001b[0m\n\u001b[0;32m     49\u001b[0m \u001b[1;33m\u001b[0m\u001b[0m\n\u001b[1;32m---> 50\u001b[1;33m \u001b[0mROC\u001b[0m\u001b[1;33m,\u001b[0m \u001b[0mAUC\u001b[0m \u001b[1;33m=\u001b[0m \u001b[0mcreateROCtpr\u001b[0m\u001b[1;33m(\u001b[0m\u001b[0my_score_list\u001b[0m\u001b[1;33m,\u001b[0m \u001b[0my_test_list\u001b[0m\u001b[1;33m)\u001b[0m\u001b[1;33m\u001b[0m\u001b[0m\n\u001b[0m\u001b[0;32m     51\u001b[0m \u001b[1;33m\u001b[0m\u001b[0m\n\u001b[0;32m     52\u001b[0m \u001b[0mplt\u001b[0m\u001b[1;33m.\u001b[0m\u001b[0mfigure\u001b[0m\u001b[1;33m(\u001b[0m\u001b[1;33m)\u001b[0m\u001b[1;33m\u001b[0m\u001b[0m\n",
      "\u001b[1;32m<ipython-input-205-d59d10d43744>\u001b[0m in \u001b[0;36mcreateROCtpr\u001b[1;34m(predictedClass, actualClass)\u001b[0m\n\u001b[0;32m     37\u001b[0m             \u001b[0mresult\u001b[0m \u001b[1;33m=\u001b[0m \u001b[0mTPR_FOR_FPR\u001b[0m\u001b[1;33m(\u001b[0m\u001b[0mi\u001b[0m\u001b[1;33m,\u001b[0m \u001b[0mROCS\u001b[0m\u001b[1;33m[\u001b[0m\u001b[0mj\u001b[0m\u001b[1;33m]\u001b[0m\u001b[1;33m,\u001b[0m \u001b[0mnpts\u001b[0m\u001b[1;33m[\u001b[0m\u001b[0mj\u001b[0m\u001b[1;33m]\u001b[0m\u001b[1;33m)\u001b[0m\u001b[1;33m\u001b[0m\u001b[0m\n\u001b[0;32m     38\u001b[0m             \u001b[0mprint\u001b[0m\u001b[1;33m(\u001b[0m\u001b[0mresult\u001b[0m\u001b[1;33m)\u001b[0m\u001b[1;33m\u001b[0m\u001b[0m\n\u001b[1;32m---> 39\u001b[1;33m             \u001b[0mtprsum\u001b[0m \u001b[1;33m=\u001b[0m \u001b[0mtprsum\u001b[0m \u001b[1;33m+\u001b[0m \u001b[0mresult\u001b[0m\u001b[1;33m\u001b[0m\u001b[0m\n\u001b[0m\u001b[0;32m     40\u001b[0m         \u001b[0mtpravg_j\u001b[0m \u001b[1;33m=\u001b[0m \u001b[0mtprsum\u001b[0m\u001b[1;33m/\u001b[0m\u001b[0mnrocs\u001b[0m\u001b[1;33m\u001b[0m\u001b[0m\n\u001b[0;32m     41\u001b[0m         \u001b[0mtpravg\u001b[0m\u001b[1;33m.\u001b[0m\u001b[0mappend\u001b[0m\u001b[1;33m(\u001b[0m\u001b[0mtpravg_j\u001b[0m\u001b[1;33m)\u001b[0m\u001b[1;33m\u001b[0m\u001b[0m\n",
      "\u001b[1;31mTypeError\u001b[0m: unsupported operand type(s) for +: 'float' and 'NoneType'"
     ]
    }
   ],
   "source": [
    "import math\n",
    "def createROC(f, L):\n",
    "    L_sorted = L.copy()\n",
    "    L_sorted = [L[i] for i in np.argsort(f)[::-1]]\n",
    "    TP = 0\n",
    "    FP = 0\n",
    "    R = []\n",
    "    fprev = -math.inf\n",
    "    P = len(L[L == 1])\n",
    "    N = len(L[L == 0])\n",
    "    i = 0\n",
    "    while i <= len(L_sorted) - 1: \n",
    "        if f[i] != fprev:\n",
    "            R.append((FP/N, TP/P))\n",
    "            fprev = f[i]\n",
    "        if L_sorted[i] == 1: \n",
    "            TP = TP + 1\n",
    "        else:\n",
    "            FP = FP + 1\n",
    "        i = i + 1\n",
    "    R.append((FP/N, TP/P)) \n",
    "    \n",
    "    ROC = {}\n",
    "    fpr = [j[0] for j in R]\n",
    "    tpr = [j[1] for j in R]\n",
    "    \n",
    "    ROC['tpr'] = tpr\n",
    "    ROC['fpr'] = fpr\n",
    "    \n",
    "    AUC = 0\n",
    "    for i in range(len(fpr)-1):\n",
    "        AUC = AUC + (fpr[i+1] - fpr[i]) * tpr[i+1]\n",
    "        \n",
    "    return ROC, AUC\n",
    "\n",
    "\n",
    "def INTERPOLATE(tpr1,fpr1,tpr2,fpr2,x):\n",
    "    slope = (tpr2 - tpr1)/(fpr2-fpr1)\n",
    "    return tpr1 + slope*(x-fpr1)\n",
    "\n",
    "def TPR_FOR_FPR(fpr_sample,ROC,npts):\n",
    "    i = 0\n",
    "    while i<npts and ROC['fpr'][i+1] <= fpr_sample:\n",
    "        i += 1\n",
    "    if ROC['fpr'][i] == fpr_sample:\n",
    "        return ROC['tpr'][i]\n",
    "    else:\n",
    "        return INTERPOLATE(ROC['tpr'][i],ROC['fpr'][i],ROC['tpr'][i+1],ROC['fpr'][i+1],fpr_sample)\n",
    "\n",
    "def createROCtpr(predC, actualC):\n",
    "    ROCS = []\n",
    "    AUCS = []\n",
    "    tpravg = []\n",
    "    ROC_avg = []\n",
    "    for i in range(len(predC)):\n",
    "        actual_class = actualC[i]\n",
    "        predict_class = predC[i]\n",
    "        ROC, AUC = createROC(predict_class, actual_class)\n",
    "        ROCS.append(ROC)\n",
    "        AUCS.append(AUC)\n",
    "    samples = 20\n",
    "    npts = [len(l) for l in predC]\n",
    "    fpr = list(np.linspace(0, 1, samples, endpoint=False))\n",
    "    for fpr_sample in fpr:\n",
    "        tprsum = 0\n",
    "        for i in range(nrocs):\n",
    "            tprsum += TPR_FOR_FPR(fpr_sample, ROCS[i], npts[i])\n",
    "        tpravg.append(tprsum/nrocs)\n",
    "    ROC_avg['tpr'] = tpravg\n",
    "    ROC_avg['fpr'] = fpr\n",
    "    \n",
    "    ROC_avg.append((fpr, tpravg))\n",
    "    \n",
    "    AUC_avg = 0\n",
    "    for i in range(len(tpravg)-1):\n",
    "        AUC_avg += tpravg[i]*(fpr[i+1] - fpr[i])\n",
    "    return ROC_avg,AUC_avg\n",
    "\n",
    "\n",
    "ROC, AUC = createROCtpr(y_score_list, y_test_list)\n",
    "\n",
    "plt.figure()\n",
    "lw = 2\n",
    "class_num = 0\n",
    "ROC, AUC = createROC(y_score[:, class_num], y_test[:, class_num])\n",
    "#plt.plot(fpr[class_num], tpr[class_num], color='black',\n",
    "         #lw=lw, label='ROC curve (area = %0.2f)' % roc_auc[class_num])\n",
    "plt.plot([j[0] for j in ROC], [j[1] for j in ROC], color='blue',\n",
    "         lw=lw, label='ROC curve (area = %0.2f)' % AUC)\n",
    "\n",
    "plt.plot([0, 1], [0, 1], color='grey', lw=lw, linestyle='--')\n",
    "plt.xlim([0.0, 1.0])\n",
    "plt.ylim([0.0, 1.05])\n",
    "plt.xlabel('False Positive Rate')\n",
    "plt.ylabel('True Positive Rate')\n",
    "plt.title('Receiver operating characteristic example')\n",
    "plt.legend(loc=\"lower right\")\n",
    "plt.show()"
   ]
  },
  {
   "cell_type": "code",
   "execution_count": 197,
   "metadata": {},
   "outputs": [
    {
     "data": {
      "text/plain": [
       "100"
      ]
     },
     "execution_count": 197,
     "metadata": {},
     "output_type": "execute_result"
    }
   ],
   "source": [
    "len(y_score_list)"
   ]
  },
  {
   "cell_type": "code",
   "execution_count": null,
   "metadata": {},
   "outputs": [],
   "source": [
    "def INTERPOLATE(ROCP1, ROCP2, X):\n",
    "    slope = (ROCP2[1] - ROCP1[1]) / (ROCP2[0] - ROCP1[0])\n",
    "    return ROCP1[1] + slope * (X - ROCP1[0])\n",
    "\n",
    "def TPR_FOR_FPR(fprsample, ROC, npts):\n",
    "    i = 0\n",
    "    while i < (npts -1) and ROC[i + 1][0] <= fprsample:\n",
    "        i = i + 1\n",
    "        if ROC[i + 1][0] == fprsample:\n",
    "            return ROC[i + 1][1]\n",
    "        else:\n",
    "            return INTERPOLATE(ROC[i], ROC[i+1], fprsample)\n",
    "\n",
    "def createROCtpr(predictedClass, actualClass):\n",
    "    \n",
    "    ROCS = []\n",
    "    AUCS = []\n",
    "    for i in range(len(y_score_list)):\n",
    "        y_test_i = y_test_list[i]\n",
    "        y_score_i = y_score_list[i] \n",
    "        ROC, AUC = createROC(y_score_i, y_test_i)\n",
    "        ROCS.append(ROC)\n",
    "        AUCS.append(AUC)\n",
    "        \n",
    "    sample = 50\n",
    "    #nrocs = len(y_score_list)\n",
    "    npts = [len(i) for i in y_score_list]\n",
    "    \n",
    "    tpravg = []\n",
    "    fpr_list = list(np.linspace(0, 1, sample))\n",
    "    R = []\n",
    "    for i in fpr_list:\n",
    "        tprsum = 0\n",
    "        for j in range(nrocs):\n",
    "            #print(len(npts[j]))\n",
    "            result = TPR_FOR_FPR(i, ROCS[j], npts[j])\n",
    "            print(result)\n",
    "            tprsum = tprsum + result\n",
    "        tpravg_j = tprsum/nrocs\n",
    "        tpravg.append(tpravg_j)\n",
    "        R.append((i, tpravg_j))\n",
    "    AUC = 0\n",
    "    for n in range(len(tpravg - 1)):\n",
    "            AUC = AUC + (fpr_list[n+1] - fpr_list[n]) * tpravg[n+1]\n",
    "    \n",
    "    return R, AUC \n",
    "\n",
    "ROC, AUC = createROCtpr(y_score_list, y_test_list)\n",
    "\n",
    "plt.figure()\n",
    "lw = 2\n",
    "class_num = 0\n",
    "ROC, AUC = createROC(y_score[:, class_num], y_test[:, class_num])\n",
    "#plt.plot(fpr[class_num], tpr[class_num], color='black',\n",
    "         #lw=lw, label='ROC curve (area = %0.2f)' % roc_auc[class_num])\n",
    "plt.plot([j[0] for j in ROC], [j[1] for j in ROC], color='blue',\n",
    "         lw=lw, label='ROC curve (area = %0.2f)' % AUC)\n",
    "\n",
    "plt.plot([0, 1], [0, 1], color='grey', lw=lw, linestyle='--')\n",
    "plt.xlim([0.0, 1.0])\n",
    "plt.ylim([0.0, 1.05])\n",
    "plt.xlabel('False Positive Rate')\n",
    "plt.ylabel('True Positive Rate')\n",
    "plt.title('Receiver operating characteristic example')\n",
    "plt.legend(loc=\"lower right\")\n",
    "plt.show()"
   ]
  },
  {
   "cell_type": "code",
   "execution_count": null,
   "metadata": {},
   "outputs": [],
   "source": []
  },
  {
   "cell_type": "code",
   "execution_count": null,
   "metadata": {},
   "outputs": [],
   "source": []
  },
  {
   "cell_type": "code",
   "execution_count": null,
   "metadata": {},
   "outputs": [],
   "source": []
  },
  {
   "cell_type": "code",
   "execution_count": null,
   "metadata": {},
   "outputs": [],
   "source": []
  },
  {
   "cell_type": "code",
   "execution_count": null,
   "metadata": {},
   "outputs": [],
   "source": []
  },
  {
   "cell_type": "code",
   "execution_count": null,
   "metadata": {},
   "outputs": [],
   "source": []
  },
  {
   "cell_type": "code",
   "execution_count": null,
   "metadata": {},
   "outputs": [],
   "source": []
  },
  {
   "cell_type": "code",
   "execution_count": null,
   "metadata": {},
   "outputs": [],
   "source": []
  },
  {
   "cell_type": "code",
   "execution_count": null,
   "metadata": {},
   "outputs": [],
   "source": []
  },
  {
   "cell_type": "code",
   "execution_count": null,
   "metadata": {},
   "outputs": [],
   "source": []
  },
  {
   "cell_type": "code",
   "execution_count": null,
   "metadata": {},
   "outputs": [],
   "source": []
  }
 ],
 "metadata": {
  "kernelspec": {
   "display_name": "Python 3",
   "language": "python",
   "name": "python3"
  },
  "language_info": {
   "codemirror_mode": {
    "name": "ipython",
    "version": 3
   },
   "file_extension": ".py",
   "mimetype": "text/x-python",
   "name": "python",
   "nbconvert_exporter": "python",
   "pygments_lexer": "ipython3",
   "version": "3.7.0"
  }
 },
 "nbformat": 4,
 "nbformat_minor": 2
}
